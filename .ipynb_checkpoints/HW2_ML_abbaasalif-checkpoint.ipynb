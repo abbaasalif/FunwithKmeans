{
 "cells": [
  {
   "cell_type": "markdown",
   "id": "78f0cc47-39f2-4366-a55b-9453c82eca4d",
   "metadata": {},
   "source": [
    "<h1> Machine Learning Assignment 2 </h1>\n",
    "\n",
    "<h3> Python version and libraries version used: </h3>\n",
    "<ol>\n",
    "    <li> Python == 3.7.11\n",
    "    <li> numpy == 1.21.2\n",
    "    <li> biopython == 1.79\n",
    "    <li> matplotlib == 3.4.3\n",
    "    <li> scikit-learn == 1.0\n",
    "</ol> \n",
    "    \n",
    "<h3> Steps to be followed: </h3>\n",
    "<ol>\n",
    "    <li> Read the fasta file to get the sequences from the file and put it into a dictionary\n",
    "    <li> Calculate the distance matrix using the hamming distance\n",
    "    <li> Apply MDS to the distance matrix to covert it to 2D and then plot the scaled matrix to visually identify number of clusters\n",
    "    <li> Implementing K-means from scratch (going to use the same parameters as sklearn.cluster) implement it as class and call find_cluster on the 2D data so that we can cluster the data.\n",
    "    <li> Visualize the clusters with the respective centroids </li>     \n",
    "</ol> "
   ]
  },
  {
   "cell_type": "markdown",
   "id": "686c80f4-4727-43c1-be4e-799f1982b079",
   "metadata": {},
   "source": [
    "<h2> Step-1: Reading the fasta file and get the sequences and place them in a dictionary </h2>\n",
    "\n",
    "<p> we use the <b> BioPython </b> library to parse the contents of the fasta file to a dictionary so that we can use the id provided in the fasta file for a sequence to identify it. </p>"
   ]
  },
  {
   "cell_type": "code",
   "execution_count": 1,
   "id": "a00201d7-9fcb-4d03-b543-3b03950a4e4f",
   "metadata": {},
   "outputs": [],
   "source": [
    "from Bio import SeqIO\n",
    "import numpy as np\n",
    "import random\n",
    "import sys\n",
    "from sklearn.manifold import MDS\n",
    "import matplotlib.pyplot as plt"
   ]
  },
  {
   "cell_type": "code",
   "execution_count": 2,
   "id": "fba612ef-9b91-4c33-bf86-4f33a377076d",
   "metadata": {},
   "outputs": [],
   "source": [
    "val = dict()\n",
    "for seq_rec in SeqIO.parse(\"HW2.fas\",\"fasta\"):\n",
    "    val[seq_rec.id] = str(seq_rec.seq)"
   ]
  },
  {
   "cell_type": "code",
   "execution_count": 3,
   "id": "b472441c-7f4c-4e15-a360-e91dabfaa4eb",
   "metadata": {},
   "outputs": [],
   "source": [
    "values = list(val.values())"
   ]
  },
  {
   "cell_type": "markdown",
   "id": "20c0d682-d9d2-4683-9401-9166b140a8e2",
   "metadata": {},
   "source": [
    "<h2> Step-2: Creating the distance matrix using Hamming distance based on the change in the DNA sequence</h2>\n",
    "<p> we use dynamic programming technique to reduce the computations required to calculate hamming distance matrix. The Order is O(n<sup>2</sup>log(m)) which can be used to reduce the problem from a cubic order to quadratic. where <b><i>n</i></b> is the number of sequences and <b><i>m</i></b> is the length of each sequence.</p>"
   ]
  },
  {
   "cell_type": "code",
   "execution_count": 4,
   "id": "8bbf3a4c-833d-4d8c-a6f6-b448c9df226a",
   "metadata": {},
   "outputs": [],
   "source": [
    "distance = []\n",
    "for i in range(len(values)):\n",
    "    temp = []\n",
    "    for j in range(len(values)):\n",
    "        dist = 0\n",
    "        for k in range(len(values[i])):\n",
    "            if values[i][k] != values[j][k]:\n",
    "                dist+=1\n",
    "        temp.append(dist)\n",
    "       \n",
    "    distance.append(temp)"
   ]
  },
  {
   "cell_type": "markdown",
   "id": "b3580d6d-d783-4efc-bb4b-22357df63e0c",
   "metadata": {},
   "source": [
    "<h4> Here we are checking whether the distance matrix obtained by us is of the correct shape by checking the length of the 2D matrix created by us </h4>"
   ]
  },
  {
   "cell_type": "code",
   "execution_count": 5,
   "id": "84749fd7-e144-4d45-9f60-a5ee941f6b06",
   "metadata": {},
   "outputs": [
    {
     "data": {
      "text/plain": [
       "120"
      ]
     },
     "execution_count": 5,
     "metadata": {},
     "output_type": "execute_result"
    }
   ],
   "source": [
    "len(distance)"
   ]
  },
  {
   "cell_type": "code",
   "execution_count": 6,
   "id": "a34d10da-2c75-4754-818d-744285ef8950",
   "metadata": {},
   "outputs": [
    {
     "data": {
      "text/plain": [
       "120"
      ]
     },
     "execution_count": 6,
     "metadata": {},
     "output_type": "execute_result"
    }
   ],
   "source": [
    "len(distance[0])"
   ]
  },
  {
   "cell_type": "markdown",
   "id": "3488f54a-83c3-4264-9deb-99effe94711b",
   "metadata": {},
   "source": [
    "<h4> Here we are checking that if the trace (Major Diagonal) of the distance matrix is zero for sanity check </h4>"
   ]
  },
  {
   "cell_type": "code",
   "execution_count": 7,
   "id": "59a7ba70-4a8a-4aa8-9b9d-783031e8dc89",
   "metadata": {},
   "outputs": [
    {
     "name": "stdout",
     "output_type": "stream",
     "text": [
      "Sanity Check passed!!\n"
     ]
    }
   ],
   "source": [
    "flag=0\n",
    "for i in range(len(distance)):\n",
    "    if distance[i][i] != 0:\n",
    "        print(\"Something is wrong\")\n",
    "        flag = 1\n",
    "if flag==0:\n",
    "    print(\"Sanity Check passed!!\")"
   ]
  },
  {
   "cell_type": "markdown",
   "id": "df5fc2b0-4c12-4a93-93ec-fcf3e760add8",
   "metadata": {},
   "source": [
    "#### Create an object of MDS class (from sklearn.manifold) that will accept pre-computed distance matrix and also we set a random seed of 6998 to make sure that we have repeatability in our results.\n"
   ]
  },
  {
   "cell_type": "code",
   "execution_count": 8,
   "id": "e2f163f3-73d4-41b8-83fc-4831877b541b",
   "metadata": {},
   "outputs": [],
   "source": [
    "mds = MDS(2,dissimilarity='precomputed', random_state=6998)"
   ]
  },
  {
   "cell_type": "code",
   "execution_count": 9,
   "id": "5d08dd03-8dbc-4854-9b8c-61833505f270",
   "metadata": {},
   "outputs": [],
   "source": [
    "transform_2d = mds.fit_transform(distance)"
   ]
  },
  {
   "cell_type": "markdown",
   "id": "65858f6a-8efb-456f-a0df-30b89382dbf4",
   "metadata": {},
   "source": [
    "<h3> Here we are going to plot the Scaled Matrix obtained from MDS </h3>"
   ]
  },
  {
   "cell_type": "code",
   "execution_count": 10,
   "id": "259478d9-c143-4983-8b1d-2a5df8522ebd",
   "metadata": {},
   "outputs": [
    {
     "data": {
      "image/png": "[encoded data removed]",
      "text/plain": [
       "<Figure size 720x720 with 1 Axes>"
      ]
     },
     "metadata": {
      "needs_background": "light"
     },
     "output_type": "display_data"
    }
   ],
   "source": [
    "plt.rcParams['figure.figsize'] = [10, 10]\n",
    "plt.rc('font', size=12)\n",
    "x = []\n",
    "y = []\n",
    "for i in transform_2d:\n",
    "    x.append(i[0])\n",
    "    y.append(i[1])\n",
    "plt.scatter(x,y)\n",
    "plt.xlabel(\"X-component of Scaled Matrix\")\n",
    "plt.ylabel(\"Y-component of Scaled Matrix\")\n",
    "plt.show()"
   ]
  },
  {
   "cell_type": "markdown",
   "id": "60f42f2a-b2f0-4b3f-a7d0-d84066eabc6c",
   "metadata": {},
   "source": [
    "<h3> Here we can clearly see that we have 3 clusters so we choose our k-value for K-means clustering to be 3 </h3>"
   ]
  },
  {
   "cell_type": "markdown",
   "id": "e76f4772-a14f-4f98-bda6-c7daaa5b7aa3",
   "metadata": {},
   "source": [
    "<h3> Steps in <em>KMeans</em> algorithm: </h3>\n",
    "<ol>\n",
    "    <li> Initialize the centroids as random points in the data set</li>\n",
    "    <li> Then find the distance of each data point from the <em>k</em> clusters and then add to the cluster from which it has minimum distance from the centroid </li>\n",
    "    <li> Then move the centroid of that cluster by taking mean of the data points present in that cluster. </li>\n",
    "    <li> Keep running this exercise until maximum iterations specified or till the tolerance value condition has been met </li>\n",
    "</ol>\n",
    "\n",
    "\n",
    "\n",
    "\n",
    "\n",
    "<h3> Introduction to <em>KMeans++</em> initialization technique </h3>\n",
    "\n",
    "<b> Problem with the standard KMeans :</b>\n",
    "    <ul>\n",
    "        <li>the standard KMeans algorithm is sensitive to initialization:\n",
    "            <ul>\n",
    "                <li> If the point is initialized as a <em>far-off</em> point then it might not have any values associated to its cluster</li>\n",
    "                <li> If the points are intialized <em>nearby</em>, They might end up dividing the same cluster into fragments. </li>\n",
    "            </ul>\n",
    "        </li>\n",
    "        </ul>\n",
    "To overcome this drawback we use <em>kmeans++</em> intialization technique to intialize the points as KMeans is <em>sensitive</em> to intialization.\n",
    "<br><br>\n",
    "Steps of <b>kmeans++</b> algorithm:\n",
    "<ol>\n",
    "    <li> The first centroid is randomly choosen. </li>\n",
    "    <li> The distance between the points and the nearest centroid is calculated. </li>\n",
    "    <li> The point that has the maximum distance from one of the centroids is choosen as the next centroid. </li>\n",
    "    <li> Steps 1-3 is repeated <em> k-1 </em> times. </li>\n",
    "</ol>\n",
    "<br><br>\n",
    "Concept of <b><em>Tolerance</em></b>:\n",
    "<br>\n",
    "The concept of tolerance is that we continue the iterations of calculation of centroids till the distance between the old centroid and the new centroids are less than that of tolerance value that we have passed in the object.\n",
    "<br><br>\n",
    "\n",
    "Concept of <b><em>Intertia</em></b> and <em>multiple intializations</em>:\n",
    "<br>\n",
    "\n",
    "Often we come accross the situation that even with kmeans initalization we might not get the optimum clusters that we are looking for. So what we do in this case is that we run the kmeans with multiple initializations where we use different random seed values and we choose the values from the iterations that had the lowest inertia.\n",
    "<br>\n",
    "Formula for <em>inertia</em>:\n",
    "\n",
    "$ Intertia = \\sum \\limits _{i=1} ^{k} {D_k}^2$\n",
    "\n",
    "where $D_k$ is distances of the points of that cluster from its centroid.\n",
    "\n",
    "We use this inertia to determine how good the cluster is the less the inertia the better as the distances inside the cluster(<em>intra- cluster</em>) must be less.\n",
    "<h3> References: </h3>\n",
    "<ol>\n",
    "    <li> Sci-Kit Learn Official Repository Kmeans implentation(Used the template here for my class function): <a href=https://github.com/scikit-learn/scikit-learn/blob/main/sklearn/cluster/_kmeans.py> Github Repo</a></li>\n",
    "    <li> Geeks for Geeks (to learn the concept of kmeans++ intialization and boilerplate code for kmeans++ initialization): <a href=https://www.geeksforgeeks.org/ml-k-means-algorithm>External blog page </a> </li>\n",
    "</ol>"
   ]
  },
  {
   "cell_type": "code",
   "execution_count": 11,
   "id": "f8ba6fdc-3718-434c-97dd-d59b38b4d914",
   "metadata": {},
   "outputs": [],
   "source": [
    "import numpy as np\n",
    "import sys\n",
    "import random\n",
    "# we implement KMeans based on the Sci-kit learn libraries and having the most feartures of maximum iterations, initialization using random and kmeans++\n",
    "# n_init which will initialize the points based on different seed variables and then tolerance variable which will stop the iterations once the distance between the current and the previous centroids are less than the value passed to it\n",
    "class KMeans:\n",
    "    def __init__(self, n_clusters=3, max_iter=300, initial='kmeans++', n_init = 10, tol=1e-4, random_state=42):\n",
    "        self.n_clusters = n_clusters #k_value\n",
    "        self.max_iter = max_iter #no_of iterations\n",
    "        self.initial = initial #type of initialization random or kmeans\n",
    "        self.n_init = n_init #different seed values to use for multiple initializations and choose the centroids which have the lowest inertia.\n",
    "        self.tol = tol # if the distance * 100 between the old centroid and the new centroid are less than tolerance value then break the loop\n",
    "        self.random_state = random_state #we set a seed value for random function that creates the seed values for np.random\n",
    "    def initialize(self, data): # in this function we will do the initialization there are two types of initialization - 1. Random and 2. kmeans++\n",
    "        if self.initial == 'random': # in random intialization we will take k points from the dataset and run the algorithm\n",
    "            self.centroids = {} # intialize the class varible centroid as a empty dictionary\n",
    "            for i in range(self.n_clusters): # then we loop for k values\n",
    "                self.centroids[i] = data[np.random.randint(0,len(data))] # and use numpy.random.randint -> to choose random values we use lower bound of 0 and upper bound of total length of data\n",
    "        elif self.initial == 'kmeans++': #in this initialization we use a technique called kmeans++ which is a technique developed to overcome the limitations of standard kmeans\n",
    "            self.centroids = {} # we intialize the centroids as a empty dictonary\n",
    "            self.centroids[0] = data[np.random.randint(0,len(data))] # we randomly choose the first centroid\n",
    "            # for k-1 centroids\n",
    "            for cluster in range(1,self.n_clusters):\n",
    "                distance = [] # initialize distance array\n",
    "                # iterate over all the data points\n",
    "                for i in range(len(data)):\n",
    "                    current_point = data[i] #we assign the current points as current_point\n",
    "                    d = sys.maxsize # we choose a value d which is the the sys.maxsize which the maximum value a variable can hold in python\n",
    "                    #iterate over the centroids\n",
    "                    for centroid in self.centroids: \n",
    "                        temp_dist = np.linalg.norm(current_point - self.centroids[centroid]) # calculate frobenius distance for the current point and centroid\n",
    "                        d = min(d, temp_dist) # we change the d value to be minimum of d or calulated distance - to find from which cluster the distance is minimum.\n",
    "                    distance.append(d) # once we have calulated will store the distance of the point from the closest cluster\n",
    "                next_centroid = data[np.argmax(distance)] # we choose the next centroid which has the maxmimum distance from the nearest cluster.\n",
    "                self.centroids[cluster] = next_centroid # add that centroid value to self.centroids class variable\n",
    "    # in this mentod we will find the clusters of the data points.\n",
    "    def find_cluster(self, data):    \n",
    "        tot_inertias = [] # variable to save the inertia values\n",
    "        tot_clusters = [] #variable to save corresponding values of clusters for the runs\n",
    "        tot_centroids = [] # variable to save corrresponding values of centroids for the runs\n",
    "        for i in range(self.n_init): # we initialize the runs for different initializations bsaed on n_init\n",
    "            random.seed(self.random_state) #adding the seed vaue for random function\n",
    "            seed = random.randint(0,2**32 -1) # we are going to use a random number created by random package which comes pre-installed with you python that value will be used as seed for the np.random values\n",
    "            np.random.seed(seed) # we set a random seed value by taking the seed from the previous step\n",
    "            self.initialize(data) # will intialize clusters for us\n",
    "            for i in range(self.max_iter):\n",
    "            #clusters will contain the information which data points belong to one group\n",
    "                self.clusters={} # here we create the cluster dictionary as a dictionary of array where you can add the values based on distance from centroid\n",
    "                for i in range(self.n_clusters):\n",
    "                    self.clusters[i] = [] #we create a dictonary of lists that will store the clusters for us\n",
    "                    #we find the distance between the data points and the centroid and choose the centroid that has minimum distance (nearest) to the point\n",
    "                \n",
    "                for point in data: #we iterate through all the points in the data\n",
    "                    distances = []\n",
    "                    for centroid in self.centroids:\n",
    "                        distances.append(np.linalg.norm(point - self.centroids[centroid])) \n",
    "                    classification = distances.index(min(distances))\n",
    "                    self.clusters[classification].append(point)\n",
    "\n",
    "                    previous_centroids = self.centroids # we save up the previous centroids for tolerance check in the upcoming steps\n",
    "                for cluster in self.clusters: # for every cluster in self.clusters\n",
    "                    self.centroids[cluster] = np.average(self.clusters[cluster], axis=0) # we take the new centroid to be the average of the points in that cluster\n",
    "                    \n",
    "                converged = True #flag that is set true which is used to check for convergence.\n",
    "                for centroid in self.centroids: # every centroid in self.centroids\n",
    "                    previous = previous_centroids[centroid] # we assign a variable called previous for our convenience - this has the previous centoid for that cluster\n",
    "                    current = self.centroids[centroid] # we assign a variable current which has the current centroid for that cluster\n",
    "                    \n",
    "                    if np.linalg.norm(current - previous) * 100 > self.tol: # here we come up with a metric that if 100* frobenius distance is greater than the tolerance value that we have set\n",
    "                        converged = False # then the cluster centroids are not optimum proceed\n",
    "                    \n",
    "                if converged: # if we find that the condition is not met then this part of the code will run and make the loop to end.\n",
    "                    break\n",
    "                \n",
    "                \n",
    "            inertia = 0 # we initialize a variable called inertia to zero\n",
    "            for cluster in self.clusters:# every cluster in self.clusters\n",
    "                summation=0 # we initialize a variable called summartion\n",
    "                n = len(self.clusters[cluster]) # we take the n value to be len(data) refer to the notes above for the formula\n",
    "                for point in self.clusters[cluster]: # for every data point in that cluster\n",
    "                    summation+= np.linalg.norm(point - self.centroids[cluster])**2 # we add up  all the squares of frobenius distances.\n",
    "                inertia += summation #hen the inertia of that cluster residies in summation that is added to inertia\n",
    "            tot_inertias.append(inertia) # then after computing all we append the values that we currently have to the tot_variables we created in the beginning\n",
    "            tot_clusters.append(self.clusters) # the clusters\n",
    "            tot_centroids.append(self.centroids) # the centroids\n",
    "            self.clusters = {}\n",
    "            self.centroids = {}\n",
    "        # after we finish computing for all n_init loop\n",
    "        self.inertia = min(tot_inertias)\n",
    "        self.clusters = tot_clusters[tot_inertias.index(min(tot_inertias))] # we take the clusters from the tot_clusters that has the least inertia and update our self.clusters\n",
    "        self.centroids = tot_centroids[tot_inertias.index(min(tot_inertias))] # we take the centroids from the tot_centroids that has the least inertia and update our self.centroids"
   ]
  },
  {
   "cell_type": "markdown",
   "id": "c0d27fed-15f2-4602-af34-e9d9cb4b5a8b",
   "metadata": {},
   "source": [
    "<h3> Finding the right amount of clusters using Elbow-Plot Method </h3>\n",
    "\n",
    "<b>Steps for <em> Elbow-Plot</em>:</b>\n",
    "1. we create a empty list to store inertia_inverse(1/inertia).\n",
    "2. we then iterate for differnet k values from 1 to 10.\n",
    "3. we then use find_cluster method to fit the graph to our data.\n",
    "4. we then append the 1/inertia to the list.\n",
    "5. we then plot inertia vs K-values and choose the elbow point(The point after which the inertia reduces drastically)."
   ]
  },
  {
   "cell_type": "code",
   "execution_count": 12,
   "id": "d71b8fd3-28af-45e0-abec-b5ab33b51a8f",
   "metadata": {},
   "outputs": [
    {
     "data": {
      "image/png": "[encoded data removed]",
      "text/plain": [
       "<Figure size 720x720 with 1 Axes>"
      ]
     },
     "metadata": {
      "needs_background": "light"
     },
     "output_type": "display_data"
    }
   ],
   "source": [
    "inertias = [] # intialize the inertias list\n",
    "for i in range(1,11): # for different k values from 1 to 10\n",
    "    km = KMeans(n_clusters=i) # we set the n_cluster variable to for loop variable i\n",
    "    km.find_cluster(transform_2d) # we then find_clusters for data\n",
    "    inertias.append(km.inertia) # then we append inverse of inertia to the inertias list\n",
    "plt.plot(range(1,11), inertias) # plot k-values vs. inertias(inverse_inertias) list\n",
    "plt.xlabel(\"K-value\")\n",
    "plt.ylabel(\"Inertia\")\n",
    "plt.show()"
   ]
  },
  {
   "cell_type": "code",
   "execution_count": 13,
   "id": "b3fcbdab-d02b-4147-a4ef-d98a28bbea90",
   "metadata": {},
   "outputs": [],
   "source": [
    "km = KMeans(n_clusters=3, initial='kmeans++') # creating an object of KMeans class\n",
    "km.find_cluster(transform_2d) # calling find_cluster method and passing our 2D data"
   ]
  },
  {
   "cell_type": "code",
   "execution_count": 14,
   "id": "5ad4435f-df47-4626-bfaf-e38147a40928",
   "metadata": {},
   "outputs": [
    {
     "data": {
      "text/plain": [
       "{0: array([-37.99905445,  -3.3430596 ]),\n",
       " 1: array([ 41.07898199, -27.77102092]),\n",
       " 2: array([-6.23984923, 33.2503129 ])}"
      ]
     },
     "execution_count": 14,
     "metadata": {},
     "output_type": "execute_result"
    }
   ],
   "source": [
    " #printing out the centroids\n",
    "km.centroids"
   ]
  },
  {
   "cell_type": "code",
   "execution_count": 15,
   "id": "0a2db914-994d-4afb-9c7b-3f641035e9d8",
   "metadata": {},
   "outputs": [
    {
     "data": {
      "image/png": "[encoded data removed]",
      "text/plain": [
       "<Figure size 720x720 with 1 Axes>"
      ]
     },
     "metadata": {
      "needs_background": "light"
     },
     "output_type": "display_data"
    }
   ],
   "source": [
    "plt.rcParams['figure.figsize'] = [10, 10]\n",
    "plt.rc('font', size=12)\n",
    "colors = [\"y\", \"g\", \"b\", \"violet\", \"orange\"] # assign colors to our clusters since k is 3 for our case we are assigning 3 colors\n",
    "# for centroid in KMeans.centroids\n",
    "centroid_plot = plt.scatter(np.array(list(km.centroids.values()))[:,0], np.array(list(km.centroids.values()))[:,1], s = 300, marker = \"o\", color=\"red\", label='centroids') # we scatter plot the centroids with a size of 300 and star marker with yellow color\n",
    "for cluster in km.clusters: # every cluster in KMeans.clusters\n",
    "    color = colors[cluster] # we choose a color from the colors list \n",
    "    \n",
    "    plt.scatter(np.array(km.clusters[cluster])[:,0], np.array(km.clusters[cluster])[:,1], color = color,s = 40, label=cluster) # we plot the point with a marker size of 40 and color from the color list \n",
    "plt.legend(loc='upper right',prop={\"size\":12})\n",
    "plt.xlabel(\"X-component of Scaled Matrix\")\n",
    "plt.ylabel(\"Y-component of Scaled Matrix\")\n",
    "plt.show() # show the graph"
   ]
  }
 ],
 "metadata": {
  "kernelspec": {
   "display_name": "Python 3 (ipykernel)",
   "language": "python",
   "name": "python3"
  },
  "language_info": {
   "codemirror_mode": {
    "name": "ipython",
    "version": 3
   },
   "file_extension": ".py",
   "mimetype": "text/x-python",
   "name": "python",
   "nbconvert_exporter": "python",
   "pygments_lexer": "ipython3",
   "version": "3.7.11"
  }
 },
 "nbformat": 4,
 "nbformat_minor": 5
}
